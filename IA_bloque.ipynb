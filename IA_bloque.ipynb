{
 "cells": [
  {
   "cell_type": "code",
   "execution_count": null,
   "metadata": {},
   "outputs": [],
   "source": [
    "import pandas as pd\n",
    "import numpy as np\n",
    "import os\n",
    "import time\n",
    "import matplotlib.pyplot as plt\n",
    "\n",
    "#Colocar el path de la carpeta con los archivos a analizar\n",
    "path='/content/sample_data/'\n",
    "contenido = os.listdir(path)"
   ]
  },
  {
   "cell_type": "code",
   "execution_count": null,
   "metadata": {},
   "outputs": [],
   "source": [
    "# Función para verificar cuantos 0 hay en cada columna de los archivos\n",
    "\n",
    "def read_conteo_zeros(archivo, path=path):\n",
    "    column_name = ['col1_boolean','col2_boolean','col3_boolean','col4_boolean','col5_float','col6_float','col7_float','col8_float','col9_float','col10_float','col11_float','col12_float','col13_float','col14_float','col15_float','col16_float','col17_float','col18_float','col19_float','col20_float','col21_float','col22_float','col23_float','col24_float','col25_float','col26_float','col27_float','col28_float','col31_integer','col32_integer','col33_integer','col34_integer','col35_integer','col36_integer']\n",
    "    path = os.path.join(path, archivo)\n",
    "    new_row = {}\n",
    "    try:\n",
    "        # Lee el archivo CSV en un DataFrame de Pandas\n",
    "        df = pd.read_csv(path, usecols=column_name)\n",
    "        new_row['name'] = archivo\n",
    "        for column in column_name:\n",
    "            new_row[column] = (df[column] == 0).sum()\n",
    "               \n",
    "        return new_row\n",
    "    except Exception as e:\n",
    "        print(f\"Error al procesar el archivo {archivo}: {str(e)}\")\n",
    "    return {}\n"
   ]
  },
  {
   "cell_type": "code",
   "execution_count": null,
   "metadata": {},
   "outputs": [],
   "source": [
    "\n",
    "# Itera sobre los archivos en el directorio\n",
    "archivos = os.listdir(path)\n",
    "column_info = ['col1_boolean','col2_boolean','col3_boolean','col4_boolean','col5_float','col6_float','col7_float','col8_float','col9_float','col10_float','col11_float','col12_float','col13_float','col14_float','col15_float','col16_float','col17_float','col18_float','col19_float','col20_float','col21_float','col22_float','col23_float','col24_float','col25_float','col26_float','col27_float','col28_float','col31_integer','col32_integer','col33_integer','col34_integer','col35_integer','col36_integer']\n",
    "info = pd.DataFrame(columns=['name',column_info])\n",
    "\n",
    "\n",
    "start_time = time.time()\n",
    "for archivo in archivos:\n",
    "    new_row = read_conteo_zeros(archivo)\n",
    "    if new_row:\n",
    "        new_row_df = pd.DataFrame([new_row])\n",
    "        info = pd.concat([info, new_row_df], ignore_index=True)\n",
    "    \n",
    "print(info)"
   ]
  },
  {
   "cell_type": "code",
   "execution_count": null,
   "metadata": {},
   "outputs": [],
   "source": [
    "#Plotear los numeros de ceros en cada columna para cada archivo \n",
    "for c in column_info:\n",
    "    plt.bar(info['name'],info[c])\n",
    "    plt.show()"
   ]
  },
  {
   "cell_type": "code",
   "execution_count": null,
   "metadata": {},
   "outputs": [],
   "source": [
    "#Crear csv\n",
    "\"\"\"print(\"Creatimg results.csv\")\n",
    "info.to_csv('results_zeros.csv')\n",
    "end_time = time.time()\n",
    "execution_time = end_time - start_time\n",
    "print(f\"Execution time: {execution_time} seconds\")\"\"\""
   ]
  },
  {
   "cell_type": "code",
   "execution_count": null,
   "metadata": {},
   "outputs": [],
   "source": [
    "#Crear DataFrame con todos los archivos \n",
    "#DataFrame para unir los csv en uno solo con una columna con el nombre de cada archivo para distingirlos y clasificarlos \n",
    "df_union=pd.DataFrame()\n",
    "column_name = ['col1_boolean','col3_boolean','col5_float','col7_float','col9_float','col11_float','col13_float','col15_float','col17_float','col19_float','col21_float','col23_float','col25_float','col27_float','target_boolean','col31_integer','col33_integer','col35_integer']\n",
    "   \n",
    "for i in archivos:\n",
    "  df1 = pd.read_csv(path+i)\n",
    "  df_rep=pd.DataFrame()\n",
    "  index=np.full(len(df1['time']),i)\n",
    "  df_rep[\"archivo\"]=index\n",
    "  df_rep[\"time\"]=df1[\"time\"]\n",
    "  columns = df1.columns.values\n",
    "  cont=1\n",
    "  for c in column_name:\n",
    "    std1=df1[columns[cont]].describe()\n",
    "    std2=df1[columns[cont+1]].describe()\n",
    "    if(std1[2]>std2[2]):\n",
    "      df_rep[c]=df1[columns[cont]]\n",
    "    else:\n",
    "      df_rep[c]=df1[columns[cont+1]]\n",
    "    cont+=2\n",
    "  frames=[df,df_rep]\n",
    "  df = pd.concat(frames)"
   ]
  },
  {
   "cell_type": "code",
   "execution_count": null,
   "metadata": {},
   "outputs": [],
   "source": [
    "#Con los archivos de discribe contar cuantos de ellos tienen diferencia en el target boolean \n",
    "#pair t-test \n",
    "#Matriz de correlación "
   ]
  }
 ],
 "metadata": {
  "kernelspec": {
   "display_name": "Python 3",
   "language": "python",
   "name": "python3"
  },
  "language_info": {
   "name": "python",
   "version": "3.11.4"
  },
  "orig_nbformat": 4
 },
 "nbformat": 4,
 "nbformat_minor": 2
}
