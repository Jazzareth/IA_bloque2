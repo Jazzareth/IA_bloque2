{
 "cells": [
  {
   "cell_type": "code",
   "execution_count": 1,
   "metadata": {},
   "outputs": [],
   "source": [
    "import pandas as pd"
   ]
  },
  {
   "cell_type": "code",
   "execution_count": 3,
   "metadata": {},
   "outputs": [],
   "source": [
    "# Cargar el conjunto de datos\n",
    "df = pd.read_csv('data_FALSA.csv')  # Asegúrate de cambiar esto por la ruta correcta a tu archivo\n"
   ]
  },
  {
   "cell_type": "code",
   "execution_count": 4,
   "metadata": {},
   "outputs": [],
   "source": [
    "# Columna objetivo\n",
    "target_col = 'target_col1'"
   ]
  },
  {
   "cell_type": "code",
   "execution_count": 15,
   "metadata": {},
   "outputs": [
    {
     "name": "stdout",
     "output_type": "stream",
     "text": [
      "8.70226030787383\n"
     ]
    }
   ],
   "source": [
    "# Calcular el porcentaje de 1's\n",
    "num_ones = df[target_col].sum()\n",
    "total_rows = len(df[target_col])\n",
    "percentage_ones = (num_ones / total_rows) * 100\n",
    "print(percentage_ones)"
   ]
  },
  {
   "cell_type": "code",
   "execution_count": 6,
   "metadata": {},
   "outputs": [],
   "source": [
    "# Identificar el índice de la mitad de 1's para dividir el conjunto de datos\n",
    "ones_indexes = df[df[target_col] == 1].index\n",
    "middle_index = ones_indexes[len(ones_indexes) // 2]"
   ]
  },
  {
   "cell_type": "code",
   "execution_count": 7,
   "metadata": {},
   "outputs": [],
   "source": [
    "# Dividir el conjunto de datos en dos partes alrededor del índice medio\n",
    "first_half = df.loc[:middle_index]\n",
    "second_half = df.loc[middle_index:]"
   ]
  },
  {
   "cell_type": "code",
   "execution_count": 8,
   "metadata": {},
   "outputs": [],
   "source": [
    "# Identificar los índices de los 0's en ambas mitades\n",
    "zero_indexes_first_half = first_half[first_half[target_col] == 0].index\n",
    "zero_indexes_second_half = second_half[second_half[target_col] == 0].index\n"
   ]
  },
  {
   "cell_type": "code",
   "execution_count": 9,
   "metadata": {},
   "outputs": [],
   "source": [
    "# Calcular el número de 0's para seleccionar de cada mitad\n",
    "num_zeros_to_select_per_half = len(ones_indexes) // 2"
   ]
  },
  {
   "cell_type": "code",
   "execution_count": 10,
   "metadata": {},
   "outputs": [],
   "source": [
    "# Seleccionar los índices más cercanos a cero alrededor de la mitad de 1\n",
    "selected_zero_indexes_first_half = zero_indexes_first_half[-num_zeros_to_select_per_half:]\n",
    "selected_zero_indexes_second_half = zero_indexes_second_half[:num_zeros_to_select_per_half]\n"
   ]
  },
  {
   "cell_type": "code",
   "execution_count": 11,
   "metadata": {},
   "outputs": [],
   "source": [
    "# Combinar los índices seleccionados de 1's y 0's\n",
    "selected_indexes = ones_indexes.union(selected_zero_indexes_first_half).union(selected_zero_indexes_second_half)\n"
   ]
  },
  {
   "cell_type": "code",
   "execution_count": 12,
   "metadata": {},
   "outputs": [],
   "source": [
    "# Seleccionar las filas con los índices combinados\n",
    "selected_rows = df.loc[selected_indexes]"
   ]
  },
  {
   "cell_type": "code",
   "execution_count": 13,
   "metadata": {},
   "outputs": [
    {
     "name": "stdout",
     "output_type": "stream",
     "text": [
      "Porcentaje de unos: 8.70226030787383%\n",
      "Tamaño del subconjunto seleccionado: (34812, 37)\n"
     ]
    }
   ],
   "source": [
    "# Resultados\n",
    "print(f'Porcentaje de unos: {percentage_ones}%')\n",
    "print(f'Tamaño del subconjunto seleccionado: {selected_rows.shape}')"
   ]
  },
  {
   "cell_type": "code",
   "execution_count": 14,
   "metadata": {},
   "outputs": [],
   "source": [
    "# Guardar el resultado en un nuevo archivo CSV si es necesario\n",
    "selected_rows.to_csv('D:\\\\Users\\\\emime\\\\Documents\\\\TEC_Monterrey\\\\9S_AgoDic23\\\\IA_2\\\\RETO\\\\porcentaje_unosceros.csv', index=False)  # Asegúrate de cambiar esto por la ruta deseada"
   ]
  },
  {
   "cell_type": "code",
   "execution_count": null,
   "metadata": {},
   "outputs": [],
   "source": []
  }
 ],
 "metadata": {
  "kernelspec": {
   "display_name": "Python 3",
   "language": "python",
   "name": "python3"
  },
  "language_info": {
   "codemirror_mode": {
    "name": "ipython",
    "version": 3
   },
   "file_extension": ".py",
   "mimetype": "text/x-python",
   "name": "python",
   "nbconvert_exporter": "python",
   "pygments_lexer": "ipython3",
   "version": "3.11.4"
  }
 },
 "nbformat": 4,
 "nbformat_minor": 2
}
